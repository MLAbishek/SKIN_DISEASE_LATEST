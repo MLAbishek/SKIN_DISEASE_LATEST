{
 "cells": [
  {
   "cell_type": "code",
   "execution_count": 2,
   "id": "a72b922d",
   "metadata": {},
   "outputs": [],
   "source": [
    "import os\n",
    "from tensorflow.keras.preprocessing.image import ImageDataGenerator ,load_img,img_to_array"
   ]
  },
  {
   "cell_type": "code",
   "execution_count": 11,
   "id": "bde9321c",
   "metadata": {},
   "outputs": [],
   "source": [
    "# Paths\n",
    "majority_class_dir = r\"E:\\PROJECTFEST-24\\SKIN_DISEASE_DETECTOR\\dataset_for_training\\Skin_Data\\test_set\\issue\"\n",
    "minority_class_dir = r\"E:\\PROJECTFEST-24\\SKIN_DISEASE_DETECTOR\\dataset_for_training\\Skin_Data\\test_set\\normal\""
   ]
  },
  {
   "cell_type": "code",
   "execution_count": 12,
   "id": "bc7923d6",
   "metadata": {},
   "outputs": [
    {
     "name": "stdout",
     "output_type": "stream",
     "text": [
      "Majority class count: 607\n",
      "Minority class count: 43\n"
     ]
    }
   ],
   "source": [
    "# Count images\n",
    "majority_count = len(\n",
    "    [f for f in os.listdir(majority_class_dir) if f.endswith((\".jpg\", \".jpeg\", \".png\"))]\n",
    ")\n",
    "minority_images = [\n",
    "    f for f in os.listdir(minority_class_dir) if f.endswith((\".jpg\", \".jpeg\", \".png\"))\n",
    "]\n",
    "minority_count = len(minority_images)\n",
    "print(f\"Majority class count: {majority_count}\")\n",
    "print(f\"Minority class count: {minority_count}\")"
   ]
  },
  {
   "cell_type": "code",
   "execution_count": 13,
   "id": "9cc74ab1",
   "metadata": {},
   "outputs": [
    {
     "name": "stdout",
     "output_type": "stream",
     "text": [
      "Majority: 607, Minority: 43, Need to generate: 564\n"
     ]
    }
   ],
   "source": [
    "# How many to generate\n",
    "to_generate = majority_count - minority_count\n",
    "print(\n",
    "    f\"Majority: {majority_count}, Minority: {minority_count}, Need to generate: {to_generate}\"\n",
    ")\n"
   ]
  },
  {
   "cell_type": "code",
   "execution_count": 14,
   "id": "6218450c",
   "metadata": {},
   "outputs": [],
   "source": [
    "# Define augmenter\n",
    "datagen = ImageDataGenerator(\n",
    "    rotation_range=20,\n",
    "    width_shift_range=0.1,\n",
    "    height_shift_range=0.1,\n",
    "    zoom_range=0.2,\n",
    "    horizontal_flip=True,\n",
    "    brightness_range=(0.8, 1.2),\n",
    "    fill_mode=\"nearest\",\n",
    ")"
   ]
  },
  {
   "cell_type": "code",
   "execution_count": 15,
   "id": "5212d2b3",
   "metadata": {},
   "outputs": [
    {
     "name": "stdout",
     "output_type": "stream",
     "text": [
      "Done. 564 new images added to minority class.\n"
     ]
    }
   ],
   "source": [
    "generated = 0\n",
    "i = 0\n",
    "\n",
    "while generated < to_generate:\n",
    "    img_name = minority_images[i % minority_count]\n",
    "    img_path = os.path.join(minority_class_dir, img_name)\n",
    "\n",
    "    img = load_img(img_path, target_size=(64, 64))\n",
    "    x = img_to_array(img)\n",
    "    x = x.reshape((1,) + x.shape)\n",
    "\n",
    "    # Generate one image at a time and save\n",
    "    for batch in datagen.flow(\n",
    "        x,\n",
    "        batch_size=1,\n",
    "        save_to_dir=minority_class_dir,\n",
    "        save_prefix=\"aug\",\n",
    "        save_format=\"jpg\",\n",
    "    ):\n",
    "        generated += 1\n",
    "        break  # Only save one per loop\n",
    "    i += 1\n",
    "\n",
    "print(f\"Done. {generated} new images added to minority class.\")"
   ]
  }
 ],
 "metadata": {
  "kernelspec": {
   "display_name": "Python 3",
   "language": "python",
   "name": "python3"
  },
  "language_info": {
   "codemirror_mode": {
    "name": "ipython",
    "version": 3
   },
   "file_extension": ".py",
   "mimetype": "text/x-python",
   "name": "python",
   "nbconvert_exporter": "python",
   "pygments_lexer": "ipython3",
   "version": "3.11.4"
  }
 },
 "nbformat": 4,
 "nbformat_minor": 5
}
